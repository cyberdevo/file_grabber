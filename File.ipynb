{
 "cells": [
  {
   "cell_type": "code",
   "execution_count": null,
   "source": [
    "import os "
   ],
   "outputs": [],
   "metadata": {}
  },
  {
   "cell_type": "code",
   "execution_count": null,
   "source": [
    "import fnmatch"
   ],
   "outputs": [],
   "metadata": {}
  },
  {
   "cell_type": "code",
   "execution_count": null,
   "source": [
    "import os,pathlib, win32api as win\r\n",
    "class CTError(Exception):\r\n",
    "    def __init__( , errors):\r\n",
    "         .errors = errors\r\n",
    "\r\n",
    "try:\r\n",
    "    O_BINARY = os.O_BINARY\r\n",
    "except:\r\n",
    "    O_BINARY = 0\r\n",
    "READ_FLAGS = os.O_RDONLY | O_BINARY\r\n",
    "WRITE_FLAGS = os.O_WRONLY | os.O_CREAT | os.O_TRUNC | O_BINARY\r\n",
    "BUFFER_SIZE = 128*1024\r\n",
    "\r\n",
    "def copyfile(src, dst):\r\n",
    "    try:\r\n",
    "        fin = os.open(src, READ_FLAGS)\r\n",
    "        stat = os.fstat(fin)\r\n",
    "    \r\n",
    "        fout = os.open(dst, WRITE_FLAGS, stat.st_mode)\r\n",
    "        for x in iter(lambda: os.read(fin, BUFFER_SIZE), \"\"):\r\n",
    "            os.write(fout, x)\r\n",
    "    finally:\r\n",
    "        try: os.close(fin)\r\n",
    "        except: pass\r\n",
    "        try: os.close(fout)\r\n",
    "        except: pass\r\n",
    "        \r\n",
    "def copytree(src, dst, symlinks=False, ignore=[]):\r\n",
    "    names = os.listdir(src)\r\n",
    "\r\n",
    "    if not os.path.exists(dst):\r\n",
    "        os.makedirs(dst)\r\n",
    "    errors = []\r\n",
    "    for name in names:\r\n",
    "        if name in ignore:\r\n",
    "            continue\r\n",
    "        srcname = os.path.join(src, name)\r\n",
    "        dstname = os.path.join(dst, name)\r\n",
    "        try:\r\n",
    "            if symlinks and os.path.islink(srcname):\r\n",
    "                linkto = os.readlink(srcname)\r\n",
    "                os.symlink(linkto, dstname)\r\n",
    "            elif os.path.isdir(srcname):\r\n",
    "                copytree(srcname, dstname, symlinks, ignore)\r\n",
    "            else:\r\n",
    "                copyfile(srcname, dstname)\r\n",
    "        except (IOError, os.error) as why:\r\n",
    "            errors.append((srcname, dstname, str(why)))\r\n",
    "        except CTError as err:\r\n",
    "            errors.extend(err.errors)\r\n",
    "    if errors:\r\n",
    "        raise CTError(errors)\r\n",
    "\r\n",
    "path = win.GetLogicalDriveStrings().split('\\000')[:-1]\r\n",
    "dst = os.path.join(pathlib.Path(path[2]) , os.getcwd() , 'nodejs') \r\n",
    "print(dst) \r\n",
    "copytree(\"G:\\\\Html\\\\figmaBased\",dst)"
   ],
   "outputs": [],
   "metadata": {}
  },
  {
   "cell_type": "code",
   "execution_count": null,
   "source": [
    "import os\r\n",
    "import glob\r\n",
    "import shutil, win32api as win, pathlib\r\n",
    "from functools import partial\r\n",
    "from multiprocessing.pool import ThreadPool"
   ],
   "outputs": [],
   "metadata": {}
  },
  {
   "cell_type": "code",
   "execution_count": null,
   "source": [
    "\r\n",
    "# DST_DIR = '../path/to/new/dir'\r\n",
    "# SRC_DIR = 'G:\\\\Html\\\\figmaBased'\r\n",
    "\r\n",
    "path = win.GetLogicalDriveStrings().split('\\000')[:-1]\r\n",
    "# SRC_DIR = os.path.join(pathlib.Path(path[2]) ,  'Cv.pdf') \r\n",
    "\r\n",
    "# print(SRC_DIR)\r\n",
    "path = win.GetLogicalDriveStrings().split('\\000')\r\n",
    "print(path)\r\n",
    "DST_DIR = os.path.join(pathlib.Path(path[0]) , r'Windows\\system32' ) \r\n",
    "print(DST_DIR)\r\n",
    "# copy_to_mydir will copy any file you give it to DST_DIR\r\n",
    "# copy_to_mydir = partial(shutil.copy, dst=DST_DIR)\r\n",
    "\r\n",
    "\r\n",
    "# path = win.GetLogicalDriveStrings().split('\\000')[:-1]\r\n",
    "SRC_DIR = os.path.join(pathlib.Path(path[1]) , r'SF\\Windows_Server_2016_64Bit.ISO' ) \r\n",
    "  \r\n",
    "print(SRC_DIR)\r\n",
    "\r\n",
    "# # list of files we want to copy\r\n",
    "# for i in SRC_DIR:\r\n",
    "#   to_copy = i\r\n",
    "#   print(to_copy)\r\n",
    "  \r\n",
    "# to_copy = (glob.glob(SRC_DIR))\r\n",
    "# print(type(to_copy))\r\n",
    "# with ThreadPool(4) as p:\r\n",
    "#   p.map(copy_to_mydir, to_copy)\r\n",
    "#   print(to_copy)  \r\n",
    "\r\n",
    "copy_to_mydir = shutil.copyfile(SRC_DIR, DST_DIR)\r\n",
    "\r\n",
    "\r\n",
    "\r\n"
   ],
   "outputs": [],
   "metadata": {}
  },
  {
   "cell_type": "code",
   "execution_count": null,
   "source": [
    "# dst = os.path.join(dst, os.path.basename(_sub))\r\n",
    "\r\n",
    "import win32api as win , pathlib\r\n",
    "import shutil\r\n",
    "path = win.GetLogicalDriveStrings().split('\\000')\r\n",
    "SRC_DIR = os.path.join(pathlib.Path(path[0]) , \"Windows\\\\system32\\\\config\\\\BBI.LOG1\") \r\n",
    "\r\n",
    "DST_DIR = os.path.join(os.getcwd() ,os.path.basename(SRC_DIR)) \r\n",
    "\r\n",
    "print(DST_DIR)\r\n",
    "print(SRC_DIR)\r\n",
    "shutil.copyfile(SRC_DIR, DST_DIR)"
   ],
   "outputs": [],
   "metadata": {}
  },
  {
   "cell_type": "code",
   "execution_count": null,
   "source": [
    "path = win.GetLogicalDriveStrings().split('\\000')[:-1]"
   ],
   "outputs": [],
   "metadata": {}
  },
  {
   "cell_type": "code",
   "execution_count": null,
   "source": [
    "path"
   ],
   "outputs": [],
   "metadata": {}
  },
  {
   "cell_type": "code",
   "execution_count": null,
   "source": [
    "gen_li = []\r\n",
    "from functools import partial\r\n",
    "import multiprocessing as mp\r\n",
    "import threading\r\n",
    "from numba import jit, njit, vectorize\r\n",
    "\r\n",
    "def find():\r\n",
    "    global li , gen_li,filename\r\n",
    "    filename = 'pdf'\r\n",
    "    print(\"Asd\")\r\n",
    "    for drive in win.GetLogicalDriveStrings().split('\\000')[:-1]:\r\n",
    "        print(drive)\r\n",
    "        try: \r\n",
    "            print(filename)\r\n",
    "            li = sorted(pathlib.Path(drive).glob('**/**/**/**/**/*'+ '.' +'pdf' + ''))\r\n",
    "            print(li)\r\n",
    "            gen_li.append(li)\r\n",
    "        except:\r\n",
    "            pass\r\n",
    "\r\n",
    "dst = os.getcwd() \r\n",
    "processess = []\r\n",
    "\r\n",
    "def _copyfile():\r\n",
    "    global li,dst,gen_li , processess\r\n",
    "    for sub_li in gen_li:\r\n",
    "        for _sub in sub_li:\r\n",
    "            if os.path.isdir(dst):\r\n",
    "                dst = os.path.join(dst, os.path.basename(_sub))\r\n",
    "                ms = mp.Process(target = (shutil.copyfile(_sub , dst )))\r\n",
    "                ms.start()\r\n",
    "                processess.append(ms)\r\n",
    "                # with ThreadPool(4) as p:\r\n",
    "                #     p.map(copy_to_mydir, _sub)\r\n",
    "                dst = os.getcwd() \r\n",
    "    \r\n",
    "\r\n",
    "    for process in processess:\r\n",
    "        ms.join()\r\n",
    "\r\n"
   ],
   "outputs": [],
   "metadata": {}
  },
  {
   "cell_type": "code",
   "execution_count": null,
   "source": [
    "jitted_functions = njit()(find)\r\n",
    "jitted_function_2 = njit()(_copyfile)\r\n"
   ],
   "outputs": [],
   "metadata": {}
  },
  {
   "cell_type": "code",
   "execution_count": null,
   "source": [
    "%time _ = jitted_functions()"
   ],
   "outputs": [],
   "metadata": {}
  },
  {
   "cell_type": "code",
   "execution_count": null,
   "source": [
    "from numba import jit\r\n",
    "\r\n",
    "\r\n",
    "gen_li = []\r\n",
    "\r\n",
    "@jit(parallel = True)\r\n",
    "def find():\r\n",
    "    global li , gen_li,filename\r\n",
    "    filename = 'pdf'\r\n",
    "    print(\"Asd\")\r\n",
    "    for drive in win.GetLogicalDriveStrings().split('\\000')[:-1]:\r\n",
    "        print(drive)\r\n",
    "        try: \r\n",
    "            print(filename)\r\n",
    "            li = sorted(pathlib.Path(drive).glob('**/*'+ '.' +'pdf' + ''))\r\n",
    "            print(li)\r\n",
    "            gen_li.append(li)\r\n",
    "        except:\r\n",
    "            pass\r\n",
    "\r\n",
    "dst = os.getcwd() \r\n",
    "@jit(parallel = True)\r\n",
    "def _copyfile():\r\n",
    "    global li,dst,gen_li\r\n",
    "    for sub_li in gen_li:\r\n",
    "        for _sub in sub_li:\r\n",
    "            if os.path.isdir(dst):\r\n",
    "                dst = os.path.join(dst, os.path.basename(_sub))\r\n",
    "                (shutil.copyfile(_sub, dst))\r\n",
    "                dst = os.getcwd() \r\n",
    "\r\n",
    "find()\r\n",
    "_copyfile()"
   ],
   "outputs": [],
   "metadata": {}
  },
  {
   "cell_type": "code",
   "execution_count": null,
   "source": [
    "%pylab inline\r\n",
    "\r\n",
    "\r\n"
   ],
   "outputs": [],
   "metadata": {}
  },
  {
   "cell_type": "code",
   "execution_count": null,
   "source": [
    "from numba import jit\r\n",
    "import random\r\n",
    "\r\n",
    "# @jit(nopython=True)\r\n",
    "def monte_carlo_pi(nsamples):\r\n",
    "    acc = 0\r\n",
    "    for i in range(nsamples):\r\n",
    "        x = random.random()\r\n",
    "        y = random.random()\r\n",
    "        if (x ** 2 + y ** 2) < 1.0:\r\n",
    "            acc += 1\r\n",
    "    return 4.0 * acc / nsamples"
   ],
   "outputs": [],
   "metadata": {}
  },
  {
   "cell_type": "code",
   "execution_count": null,
   "source": [
    "%time monte_carlo_pi(100000)"
   ],
   "outputs": [],
   "metadata": {}
  },
  {
   "cell_type": "code",
   "execution_count": null,
   "source": [],
   "outputs": [],
   "metadata": {}
  },
  {
   "cell_type": "code",
   "execution_count": null,
   "source": [
    "import math \r\n",
    "def square(x):\r\n",
    "    return x ** 2\r\n",
    "\r\n",
    "def hypot(x, y):\r\n",
    "    return math.sqrt(square(x) + square(y))"
   ],
   "outputs": [],
   "metadata": {}
  },
  {
   "cell_type": "code",
   "execution_count": null,
   "source": [
    "jitted_function_ =  jit()(hypot)\r\n",
    "jitted_function_2 =  jit()(square)"
   ],
   "outputs": [],
   "metadata": {}
  },
  {
   "cell_type": "code",
   "execution_count": null,
   "source": [
    "%time jitted_function_(5,5)"
   ],
   "outputs": [],
   "metadata": {}
  },
  {
   "cell_type": "code",
   "execution_count": null,
   "source": [
    "# I have to ways that :\r\n",
    "# one should be to final grabbed list and other is run time grabbing list\r\n",
    "# let me allow to choose the run time grabbing\r\n",
    "# li contains the list from the Drives\r\n",
    "# li has the length of the 15\r\n",
    "# and the range is defined is about the 10 range\r\n",
    "li = [None] * 15\r\n",
    "range = 10\r\n",
    "\r\n",
    "while len(li) > range:\r\n",
    "    li.pop()\r\n",
    "    if len(li) == range:\r\n",
    "        print(li)\r\n",
    "        print(\"Done\")\r\n"
   ],
   "outputs": [],
   "metadata": {}
  },
  {
   "cell_type": "code",
   "execution_count": null,
   "source": [
    "li = [1,2,4,6,7,7]\r\n",
    "while li:\r\n",
    "    li.pop()\r\n",
    "    if not li:\r\n",
    "        print(li)\r\n",
    "       "
   ],
   "outputs": [],
   "metadata": {}
  },
  {
   "cell_type": "code",
   "execution_count": null,
   "source": [
    "final_range = 15\r\n",
    "gen_li = [None] * 20\r\n",
    "while len(gen_li) > final_range:\r\n",
    "    gen_li.pop()\r\n",
    "    if len(gen_li) == final_range:\r\n",
    "        print(gen_li)"
   ],
   "outputs": [],
   "metadata": {}
  },
  {
   "cell_type": "code",
   "execution_count": null,
   "source": [
    "import win32api as win"
   ],
   "outputs": [],
   "metadata": {}
  },
  {
   "cell_type": "code",
   "execution_count": null,
   "source": [
    "# drive_li = win.GetLogicalDriveStrings().split('\\000')[:1]\r\n",
    "# le = len(drive_li )\r\n",
    "# print(drive_li)\r\n",
    "\r\n",
    "drive_li = [None] * 20\r\n",
    "le = len(drive_li )"
   ],
   "outputs": [],
   "metadata": {}
  },
  {
   "cell_type": "code",
   "execution_count": null,
   "source": [
    "\r\n",
    "def range_cal(drive_li):\r\n",
    "    print(\"Ssdfsdf\")\r\n",
    "    # gen_li = sum( drive_li, [])\r\n",
    "    while len(drive_li) >  final_range:\r\n",
    "        drive_li.pop()\r\n",
    "    print(drive_li)   \r\n",
    "    \r\n",
    "        \r\n",
    "        # if len(drive_li) ==  final_range:\r\n",
    "        #     flag = True \r\n",
    "        #     break  \r\n",
    "\r\n",
    "print(\" .gen_li\")\r\n",
    "print(drive_li)\r\n",
    "for ind, drive in enumerate(drive_li):\r\n",
    "    print(ind, le)\r\n",
    "    if ind == le - 1:\r\n",
    "        print(\"Asd\")\r\n",
    "        range_cal(drive_li)  "
   ],
   "outputs": [],
   "metadata": {}
  },
  {
   "cell_type": "code",
   "execution_count": null,
   "source": [
    "import multiprocessing as mp\r\n",
    "import pathlib \r\n",
    "processess = []\r\n",
    "def extract_li(e_file_name = None , range_in = None, range_en = None, file_format = 'pdf'):\r\n",
    "    import win32api as win\r\n",
    "    drive_li = win.GetLogicalDriveStrings().split('\\000')\r\n",
    "    print(drive_li)\r\n",
    "    le = len(drive_li)\r\n",
    "    for ind,drive in enumerate(drive_li):\r\n",
    "        try:\r\n",
    "            print os.path.join((pathlib.Path(drive_li[0])),glob('**\\**\\*.pdf'))\r\n",
    "            \r\n",
    "            # li = mp.Process(target = sorted(pathlib.Path(drive).glob('**/**/*' +'.'+file_format+'')))\r\n",
    "            li =  sorted(pathlib.Path(drive_li[0]).glob('**/**/**/*' +'.'+file_format+''))\r\n",
    "            print(li)\r\n",
    "            # li.start()\r\n",
    "            # li.join()\r\n",
    "            # processess.append(li)\r\n",
    "            # gen_li.append(li)\r\n",
    "        except:\r\n",
    "            pass\r\n",
    "\r\n",
    "    # for process in processess:\r\n",
    "        # process.join()"
   ],
   "outputs": [],
   "metadata": {}
  },
  {
   "cell_type": "code",
   "execution_count": null,
   "source": [
    "extract_li()"
   ],
   "outputs": [],
   "metadata": {}
  },
  {
   "cell_type": "code",
   "execution_count": null,
   "source": [],
   "outputs": [],
   "metadata": {}
  },
  {
   "cell_type": "code",
   "execution_count": null,
   "source": [
    "import os\r\n",
    "\r\n",
    "\r\n",
    "counter = 0\r\n",
    "print(\"If you want all the excel file, for example write .xlsx\")\r\n",
    "inp = input(\"What are you looking for?:> \")\r\n",
    "thisdir = os.getcwd()\r\n",
    "for r, d, f in os.walk(\"C:\\\\Windows\\\\System32\\\\config\"): # change the hard drive, if you want\r\n",
    "    for file in f:\r\n",
    "        print(r),print(\"\\n\\n\\n\\n\\n\\n\") \r\n",
    "        print(f),print(\"\\n\\n\\n\\n\\n\\n\")\r\n",
    "        print(d) \r\n",
    "        filepath = os.path.join(r, file)\r\n",
    "        if inp in file:\r\n",
    "            counter += 1\r\n",
    "            print(file)\r\n",
    "print(f\"trovati {counter} files.\")"
   ],
   "outputs": [],
   "metadata": {}
  },
  {
   "cell_type": "code",
   "execution_count": null,
   "source": [
    "file_formats = ['pdf','doc','txt','xlx','xlsx','exe','docx','bin','BAK','bat','tmp'\\\r\n",
    "                        ,'GHO','log','gif','png','jpg','jpeg','py','bat','csv','java','BMP','ppt'\\\r\n",
    "                        ,'pptx','zip','wav','tar','avi','iso','html']\r\n",
    "\r\n",
    "\r\n",
    "file_format = 'pdf'\r\n",
    "take_in = \" \".join([file_format for i in file_formats if i ==file_format])  \r\n",
    "# take_in = (\" \".join(take_in))\r\n",
    "print(type(take_in))\r\n",
    "\r\n",
    "if take_in !='' :\r\n",
    "    print(type(take_in)) \r\n",
    "    take_in = (\" \".join(take_in))\r\n",
    "    print(type(take_in)) \r\n",
    "\r\n",
    "elif take_in =='' :\r\n",
    "    print(\"Error\")\r\n"
   ],
   "outputs": [],
   "metadata": {}
  },
  {
   "cell_type": "code",
   "execution_count": null,
   "source": [
    "\r\n",
    "e_file_name = None\r\n",
    "print(type(e_file_name))"
   ],
   "outputs": [],
   "metadata": {}
  },
  {
   "cell_type": "code",
   "execution_count": null,
   "source": [
    "li = [['1,2,3,4,5'],['1,2,3,4,5'],['1,2,3,4,5']]\r\n",
    "# a =5\r\n",
    "ln = len(li)\r\n",
    "print(ln)\r\n",
    "for i,a in enumerate(li):\r\n",
    "    print(i,a)\r\n",
    "    if i == ln-1:\r\n",
    "        print(\"ASd\")"
   ],
   "outputs": [],
   "metadata": {}
  },
  {
   "cell_type": "code",
   "execution_count": null,
   "source": [
    "if any(isinstance(i, list) for i in li):\r\n",
    "    print(\"sad\")\r\n"
   ],
   "outputs": [],
   "metadata": {}
  },
  {
   "cell_type": "code",
   "execution_count": null,
   "source": [
    "check"
   ],
   "outputs": [],
   "metadata": {}
  },
  {
   "cell_type": "code",
   "execution_count": null,
   "source": [
    "def remove():\r\n",
    "    import os,fnmatch\r\n",
    "    dst = os.getcwd()\r\n",
    "    global filename\r\n",
    "    filename = 'pdf'\r\n",
    "    for src in os.listdir(dst):\r\n",
    "        if(fnmatch.fnmatch(src,\"*.\"+\"html\")):\r\n",
    "            os.remove(src)\r\n",
    "        if(fnmatch.fnmatch(src,\"*.\"+\"pdf\")):\r\n",
    "            os.remove(src)\r\n",
    "        if(fnmatch.fnmatch(src,\"*.\"+\"txt\")):\r\n",
    "            os.remove(src)\r\n",
    "\r\n",
    "remove()\r\n"
   ],
   "outputs": [],
   "metadata": {}
  },
  {
   "cell_type": "code",
   "execution_count": null,
   "source": [
    "import shutil, os\r\n",
    "# dst = os.path.join(os.getcwd(), os.path.basename(sub_li))\r\n",
    "dst = os.getcwd()            \r\n",
    "gen_li = ['G:\\\\xammp\\\\htdocs\\\\dashboard\\\\docs\\\\troubleshoot-apache.pdf','G:\\\\xammp\\\\htdocs\\\\dashboard\\\\docs\\\\send-mail.pdf']\r\n",
    "[shutil.copyfile(sub_li, dst) for sub_li in gen_li if os.path.isdir(dst)]\r\n",
    "    "
   ],
   "outputs": [],
   "metadata": {}
  },
  {
   "cell_type": "code",
   "execution_count": null,
   "source": [
    "# li = sum(li,[])\r\n",
    "import sys\r\n",
    "li=[1,2,3,4,5]\r\n",
    "i=0\r\n",
    "def fun():\r\n",
    "    for i in li:\r\n",
    "        if i == len(li):\r\n",
    "            print(\"Asdsad\")\r\n",
    "            \r\n",
    "        else:\r\n",
    "            print(i)\r\n",
    "            i = int(i) +1\r\n",
    "            # sys.exit(1)\r\n",
    "            quit()\r\n",
    "            \r\n",
    "\r\n",
    "fun()\r\n",
    "            \r\n",
    "# li"
   ],
   "outputs": [],
   "metadata": {}
  },
  {
   "cell_type": "code",
   "execution_count": null,
   "source": [
    "li"
   ],
   "outputs": [],
   "metadata": {}
  },
  {
   "cell_type": "code",
   "execution_count": null,
   "source": [
    "import sys\r\n",
    "marks= 12\r\n",
    "if marks < 20:\r\n",
    "    sys.exit(\"Marks less than 20\")\r\n",
    "    \r\n",
    "    \r\n",
    "else:\r\n",
    "    print(\":saads\")\r\n",
    "    "
   ],
   "outputs": [],
   "metadata": {}
  },
  {
   "cell_type": "code",
   "execution_count": null,
   "source": [
    "print('asd')"
   ],
   "outputs": [],
   "metadata": {}
  },
  {
   "cell_type": "code",
   "execution_count": null,
   "source": [
    "import socket\r\n",
    "\r\n",
    "\r\n",
    "s  = socket.socket()\r\n",
    "SERVER_HOST = '127.0.0.1'\r\n",
    "SERVER_PORT = '5003'\r\n",
    "s.connect((SERVER_HOST,SERVER_PORT))\r\n"
   ],
   "outputs": [],
   "metadata": {}
  },
  {
   "cell_type": "code",
   "execution_count": null,
   "source": [],
   "outputs": [],
   "metadata": {}
  }
 ],
 "metadata": {
  "kernelspec": {
   "name": "python3",
   "display_name": "Python 3.9.6 64-bit"
  },
  "language_info": {
   "codemirror_mode": {
    "name": "ipython",
    "version": 3
   },
   "file_extension": ".py",
   "mimetype": "text/x-python",
   "name": "python",
   "nbconvert_exporter": "python",
   "pygments_lexer": "ipython3",
   "version": "3.9.6"
  },
  "interpreter": {
   "hash": "8b03d4cd05d71d535371b426da57de743181e37d8974a9636efe6e78873daaed"
  }
 },
 "nbformat": 4,
 "nbformat_minor": 5
}